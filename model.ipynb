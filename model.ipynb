{
  "nbformat": 4,
  "nbformat_minor": 0,
  "metadata": {
    "colab": {
      "provenance": [],
      "include_colab_link": true
    },
    "kernelspec": {
      "name": "python3",
      "display_name": "Python 3"
    },
    "language_info": {
      "name": "python"
    }
  },
  "cells": [
    {
      "cell_type": "markdown",
      "metadata": {
        "id": "view-in-github",
        "colab_type": "text"
      },
      "source": [
        "<a href=\"https://colab.research.google.com/github/Monishgalla/Classifying-different-land-uses-in-satellite-images-using-CNN/blob/main/model.ipynb\" target=\"_parent\"><img src=\"https://colab.research.google.com/assets/colab-badge.svg\" alt=\"Open In Colab\"/></a>"
      ]
    },
    {
      "cell_type": "code",
      "execution_count": 1,
      "metadata": {
        "id": "3TSmXjpMK5br",
        "colab": {
          "base_uri": "https://localhost:8080/"
        },
        "outputId": "30037fa8-3e77-4637-d592-c0f9f175d583"
      },
      "outputs": [
        {
          "output_type": "stream",
          "name": "stdout",
          "text": [
            "Mounted at /content/drive\n",
            "Data preprocessing completed.\n",
            "Number of training samples: 1482\n",
            "Number of validation samples: 317\n",
            "Number of testing samples: 319\n"
          ]
        }
      ],
      "source": [
        "import os\n",
        "import cv2\n",
        "import numpy as np\n",
        "from sklearn.preprocessing import LabelEncoder\n",
        "from tensorflow.keras.utils import to_categorical\n",
        "from google.colab import drive\n",
        "drive.mount('/content/drive')\n",
        "\n",
        "\n",
        "data_dir = '/content/drive/MyDrive/dataset/UCMerced_LandUse/Images'  # Directory containing the 21 folders\n",
        "img_width, img_height = 150, 150  # Desired image dimensions\n",
        "\n",
        "# List all the class labels\n",
        "class_labels = os.listdir(data_dir)\n",
        "\n",
        "# Initialize empty lists to store the images and labels\n",
        "images = []\n",
        "labels = []\n",
        "\n",
        "# Iterate through each folder\n",
        "for class_label in class_labels:\n",
        "    folder_path = os.path.join(data_dir, class_label)\n",
        "\n",
        "    if os.path.isdir(folder_path):\n",
        "        image_files = os.listdir(folder_path)\n",
        "\n",
        "        # Load and resize the images, and store the labels\n",
        "        for image_file in image_files:\n",
        "            image_path = os.path.join(folder_path, image_file)\n",
        "            img = cv2.imread(image_path)\n",
        "            img = cv2.resize(img, (img_width, img_height))\n",
        "            images.append(img)\n",
        "            labels.append(class_label)\n",
        "\n",
        "# Convert the images and labels to NumPy arrays\n",
        "images = np.array(images)\n",
        "labels = np.array(labels)\n",
        "\n",
        "# Perform label encoding on the class labels\n",
        "label_encoder = LabelEncoder()\n",
        "labels = label_encoder.fit_transform(labels)\n",
        "\n",
        "# Perform one-hot encoding on the labels\n",
        "num_classes = len(class_labels)\n",
        "labels = to_categorical(labels, num_classes=num_classes)\n",
        "\n",
        "# Shuffle the data\n",
        "indices = np.arange(len(images))\n",
        "np.random.shuffle(indices)\n",
        "images = images[indices]\n",
        "labels = labels[indices]\n",
        "\n",
        "# Perform data normalization\n",
        "images = images.astype('float32') / 255.0\n",
        "\n",
        "# Split the data into training, validation, and testing sets\n",
        "train_split = 0.7  # Percentage of data for training\n",
        "val_split = 0.15  # Percentage of data for validation\n",
        "test_split = 0.15  # Percentage of data for testing\n",
        "\n",
        "num_samples = len(images)\n",
        "num_train_samples = int(train_split * num_samples)\n",
        "num_val_samples = int(val_split * num_samples)\n",
        "\n",
        "x_train = images[:num_train_samples]\n",
        "y_train = labels[:num_train_samples]\n",
        "\n",
        "x_val = images[num_train_samples:num_train_samples + num_val_samples]\n",
        "y_val = labels[num_train_samples:num_train_samples + num_val_samples]\n",
        "\n",
        "x_test = images[num_train_samples + num_val_samples:]\n",
        "y_test = labels[num_train_samples + num_val_samples:]\n",
        "\n",
        "print(\"Data preprocessing completed.\")\n",
        "print(\"Number of training samples:\", len(x_train))\n",
        "print(\"Number of validation samples:\", len(x_val))\n",
        "print(\"Number of testing samples:\", len(x_test))"
      ]
    },
    {
      "cell_type": "code",
      "source": [
        "import os\n",
        "import cv2\n",
        "import numpy as np\n",
        "from sklearn.preprocessing import LabelEncoder\n",
        "from tensorflow.keras.models import Sequential\n",
        "from tensorflow.keras.layers import Conv2D, MaxPooling2D, Flatten, Dense, Dropout\n",
        "from tensorflow.keras.applications import VGG16\n",
        "from tensorflow.keras.optimizers import Adam\n",
        "from tensorflow.keras.utils import to_categorical\n",
        "\n",
        "data_dir = '/content/drive/MyDrive/dataset/UCMerced_LandUse/Images'  # Directory containing the 21 folders\n",
        "img_width, img_height = 150, 150  # Desired image dimensions\n",
        "num_classes = 21  # Number of land use classes\n",
        "\n",
        "# List all the class labels\n",
        "class_labels = os.listdir(data_dir)\n",
        "\n",
        "# Initialize empty lists to store the images and labels\n",
        "images = []\n",
        "labels = []\n",
        "\n",
        "# Iterate through each folder\n",
        "for class_label in class_labels:\n",
        "    folder_path = os.path.join(data_dir, class_label)\n",
        "\n",
        "    if os.path.isdir(folder_path):\n",
        "        image_files = os.listdir(folder_path)\n",
        "\n",
        "        # Load and resize the images, and store the labels\n",
        "        for image_file in image_files:\n",
        "            image_path = os.path.join(folder_path, image_file)\n",
        "            img = cv2.imread(image_path)\n",
        "            img = cv2.resize(img, (img_width, img_height))\n",
        "            images.append(img)\n",
        "            labels.append(class_label)\n",
        "\n",
        "# Convert the images and labels to NumPy arrays\n",
        "images = np.array(images)\n",
        "labels = np.array(labels)\n",
        "\n",
        "# Perform label encoding on the class labels\n",
        "label_encoder = LabelEncoder()\n",
        "labels = label_encoder.fit_transform(labels)\n",
        "\n",
        "# Perform one-hot encoding on the labels\n",
        "labels = to_categorical(labels, num_classes=num_classes)\n",
        "\n",
        "# Perform data normalization\n",
        "images = images.astype('float32') / 255.0\n",
        "\n",
        "# Split the data into training, validation, and testing sets\n",
        "train_split = 0.7  # Percentage of data for training\n",
        "val_split = 0.15  # Percentage of data for validation\n",
        "test_split = 0.15  # Percentage of data for testing\n",
        "\n",
        "num_samples = len(images)\n",
        "num_train_samples = int(train_split * num_samples)\n",
        "num_val_samples = int(val_split * num_samples)\n",
        "\n",
        "x_train = images[:num_train_samples]\n",
        "y_train = labels[:num_train_samples]\n",
        "\n",
        "x_val = images[num_train_samples:num_train_samples + num_val_samples]\n",
        "y_val = labels[num_train_samples:num_train_samples + num_val_samples]\n",
        "\n",
        "x_test = images[num_train_samples + num_val_samples:]\n",
        "y_test = labels[num_train_samples + num_val_samples:]"
      ],
      "metadata": {
        "id": "O3Rp2nZhszqF"
      },
      "execution_count": 6,
      "outputs": []
    },
    {
      "cell_type": "code",
      "source": [
        "# Build the CNN model\n",
        "model = Sequential()\n",
        "model.add(Conv2D(32, (3, 3), activation='relu', input_shape=(img_width, img_height, 3)))\n",
        "model.add(MaxPooling2D((2, 2)))\n",
        "model.add(Conv2D(64, (3, 3), activation='relu'))\n",
        "model.add(MaxPooling2D((2, 2)))\n",
        "model.add(Conv2D(128, (3, 3), activation='relu'))\n",
        "model.add(MaxPooling2D((2, 2)))\n",
        "model.add(Flatten())\n",
        "model.add(Dense(128, activation='relu'))\n",
        "model.add(Dropout(0.5))\n",
        "model.add(Dense(num_classes, activation='softmax'))\n"
      ],
      "metadata": {
        "id": "xnAzO0h7LM6c"
      },
      "execution_count": 7,
      "outputs": []
    },
    {
      "cell_type": "code",
      "source": [
        "# Load the pre-trained VGG16 model\n",
        "vgg_model = VGG16(weights='imagenet', include_top=False, input_shape=(img_width, img_height, 3))\n",
        "\n",
        "# Freeze the layers of the VGG16 model\n",
        "for layer in vgg_model.layers:\n",
        "    layer.trainable = False\n"
      ],
      "metadata": {
        "id": "FB7aIAnZLM20",
        "colab": {
          "base_uri": "https://localhost:8080/"
        },
        "outputId": "a42bcf50-966a-4ac6-a56b-41b6c0898eb3"
      },
      "execution_count": 8,
      "outputs": [
        {
          "output_type": "stream",
          "name": "stdout",
          "text": [
            "Downloading data from https://storage.googleapis.com/tensorflow/keras-applications/vgg16/vgg16_weights_tf_dim_ordering_tf_kernels_notop.h5\n",
            "58889256/58889256 [==============================] - 0s 0us/step\n"
          ]
        }
      ]
    },
    {
      "cell_type": "code",
      "source": [
        "# Create a new model by combining the VGG16 model and the CNN model\n",
        "combined_model = Sequential()\n",
        "combined_model.add(vgg_model)\n",
        "combined_model.add(Flatten())\n",
        "combined_model.add(Dense(128, activation='relu'))\n",
        "combined_model.add(Dropout(0.5))\n",
        "combined_model.add(Dense(num_classes, activation='softmax'))\n",
        "\n",
        "# Compile the combined model\n",
        "combined_model.compile(optimizer=Adam(learning_rate=0.0001), loss='categorical_crossentropy', metrics=['accuracy'])\n",
        "\n",
        "# Train the combined model\n",
        "combined_model.fit(x_train, y_train, epochs=10, batch_size=32, validation_data=(x_val, y_val))\n",
        "\n",
        "# Evaluate the model on the test set\n",
        "loss, accuracy = combined_model.evaluate(x_test, y_test)\n",
        "print(\"Test Loss:\", loss)\n",
        "print(\"Test Accuracy:\", accuracy)"
      ],
      "metadata": {
        "id": "Xhl2Fb3dLSa0",
        "colab": {
          "base_uri": "https://localhost:8080/"
        },
        "outputId": "16698d70-a3ce-4795-ff23-cb86498bae21"
      },
      "execution_count": 9,
      "outputs": [
        {
          "output_type": "stream",
          "name": "stdout",
          "text": [
            "Epoch 1/10\n",
            "47/47 [==============================] - 571s 12s/step - loss: 2.4592 - accuracy: 0.2848 - val_loss: 4.0040 - val_accuracy: 0.0063\n",
            "Epoch 2/10\n",
            "47/47 [==============================] - 552s 12s/step - loss: 1.4892 - accuracy: 0.6053 - val_loss: 4.3360 - val_accuracy: 0.0032\n",
            "Epoch 3/10\n",
            "47/47 [==============================] - 497s 11s/step - loss: 1.0727 - accuracy: 0.7045 - val_loss: 4.6938 - val_accuracy: 0.0095\n",
            "Epoch 4/10\n",
            "47/47 [==============================] - 555s 12s/step - loss: 0.8297 - accuracy: 0.7645 - val_loss: 5.0294 - val_accuracy: 0.0000e+00\n",
            "Epoch 5/10\n",
            "47/47 [==============================] - 553s 12s/step - loss: 0.6947 - accuracy: 0.8151 - val_loss: 5.1001 - val_accuracy: 0.0284\n",
            "Epoch 6/10\n",
            "47/47 [==============================] - 553s 12s/step - loss: 0.6129 - accuracy: 0.8421 - val_loss: 5.2653 - val_accuracy: 0.0221\n",
            "Epoch 7/10\n",
            "47/47 [==============================] - 559s 12s/step - loss: 0.5222 - accuracy: 0.8603 - val_loss: 5.4397 - val_accuracy: 0.0379\n",
            "Epoch 8/10\n",
            "47/47 [==============================] - 553s 12s/step - loss: 0.4544 - accuracy: 0.8806 - val_loss: 5.8985 - val_accuracy: 0.0284\n",
            "Epoch 9/10\n",
            "47/47 [==============================] - 549s 12s/step - loss: 0.4110 - accuracy: 0.8934 - val_loss: 5.8865 - val_accuracy: 0.0379\n",
            "Epoch 10/10\n",
            "47/47 [==============================] - 543s 12s/step - loss: 0.3778 - accuracy: 0.9022 - val_loss: 5.9035 - val_accuracy: 0.0284\n",
            "10/10 [==============================] - 83s 8s/step - loss: 6.8628 - accuracy: 0.0000e+00\n",
            "Test Loss: 6.862832546234131\n",
            "Test Accuracy: 0.0\n"
          ]
        }
      ]
    }
  ]
}